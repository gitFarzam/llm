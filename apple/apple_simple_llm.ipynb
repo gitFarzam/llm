{
  "nbformat": 4,
  "nbformat_minor": 0,
  "metadata": {
    "colab": {
      "provenance": [],
      "gpuType": "T4"
    },
    "kernelspec": {
      "name": "python3",
      "display_name": "Python 3"
    },
    "language_info": {
      "name": "python"
    },
    "accelerator": "GPU"
  },
  "cells": [
    {
      "cell_type": "markdown",
      "source": [
        "# <font color=\"orange\">Apple LLM</font>\n",
        "A simple **LLM** that can answer simple questions about apple fruit, based on a **decoder-only** transformer model."
      ],
      "metadata": {
        "id": "mm6t3ua9WsNC"
      }
    },
    {
      "cell_type": "markdown",
      "source": [
        "# clone from github"
      ],
      "metadata": {
        "id": "dFt7Xwlhjeik"
      }
    },
    {
      "cell_type": "markdown",
      "source": [
        "Clone the project directory from GitHub."
      ],
      "metadata": {
        "id": "s6jcuSKOBTI1"
      }
    },
    {
      "cell_type": "code",
      "execution_count": 62,
      "metadata": {
        "colab": {
          "base_uri": "https://localhost:8080/"
        },
        "id": "gOwYcH61dgE2",
        "outputId": "952d215c-da48-4ac3-9fac-ed063149dbc4"
      },
      "outputs": [
        {
          "output_type": "stream",
          "name": "stdout",
          "text": [
            "fatal: destination path 'llm' already exists and is not an empty directory.\n"
          ]
        }
      ],
      "source": [
        "!git clone http://github.com/gitFarzam/llm"
      ]
    },
    {
      "cell_type": "markdown",
      "source": [
        "Open the text file and print the first 500 characters."
      ],
      "metadata": {
        "id": "iTKhgD48Bi2Q"
      }
    },
    {
      "cell_type": "code",
      "source": [
        "text = open('llm/apple/apple.txt' , 'r').read()\n",
        "print(text[:500])"
      ],
      "metadata": {
        "colab": {
          "base_uri": "https://localhost:8080/"
        },
        "id": "Mp6sxKcDBR2G",
        "outputId": "dd44824c-0ffa-45b5-f2b6-fe632e511b25"
      },
      "execution_count": 63,
      "outputs": [
        {
          "output_type": "stream",
          "name": "stdout",
          "text": [
            "Is an apple nutritious? Yes, apples are nutritious.\n",
            "Do apples contain fiber? Yes, apples have fiber.\n",
            "What vitamins are in apples? Apples have vitamin C.\n",
            "Are apples good for health? Yes, apples are healthy.\n",
            "Is apple a healthy fruit? Yes, very healthy.\n",
            "Does apple aid digestion? Yes, fiber aids digestion.\n",
            "Do apples help immunity? Yes, vitamin C helps.\n",
            "Are apples low in calories? Yes, low in calories.\n",
            "Do apples have antioxidants? Yes, rich in antioxidants.\n",
            "Can apples improve heart health? Yes, good \n"
          ]
        }
      ]
    },
    {
      "cell_type": "code",
      "source": [
        "# convert all the words to lowercase. (now Apple=apple , Fruit=fruit , ...)\n",
        "text = text.lower()"
      ],
      "metadata": {
        "id": "ir6lxx44dwse"
      },
      "execution_count": 64,
      "outputs": []
    },
    {
      "cell_type": "markdown",
      "source": [
        "# <b>Import Libraries</b>"
      ],
      "metadata": {
        "id": "MDN-6ULQjovM"
      }
    },
    {
      "cell_type": "code",
      "source": [
        "import torch\n",
        "import torch.nn as nn\n",
        "from torch.optim import SGD, Adam\n",
        "import torch.nn.functional as F\n",
        "from torch.utils.data import Dataset, DataLoader\n",
        "\n",
        "import matplotlib.pyplot as plt"
      ],
      "metadata": {
        "id": "brWNFLHieDuc"
      },
      "execution_count": 65,
      "outputs": []
    },
    {
      "cell_type": "markdown",
      "source": [
        "# <b> Tokenization </b>"
      ],
      "metadata": {
        "id": "OuyYrVJQjsyE"
      }
    },
    {
      "cell_type": "markdown",
      "source": [
        "## create chunks sequences\n",
        "replace `?` with `EOS` and check is there any `apple` word in the sentences, also clear punctuations.\n",
        "\n",
        "> `EOS` indicates the end of a sentence, helping for model training purposes."
      ],
      "metadata": {
        "id": "_uh-fYDilN7A"
      }
    },
    {
      "cell_type": "code",
      "source": [
        "eos_token = 'EOS'"
      ],
      "metadata": {
        "id": "uvAKD-d7GDjV"
      },
      "execution_count": 66,
      "outputs": []
    },
    {
      "cell_type": "code",
      "source": [
        "chunks = [\n",
        "    i.\\\n",
        "    replace('?',f' {eos_token}').\\\n",
        "    replace(',','').\\\n",
        "    replace(\"'\",\"\")\\\n",
        "    for i in text.split('.') if 'apple' in i\n",
        "    ]\n",
        "len(chunks) , chunks[:2]"
      ],
      "metadata": {
        "colab": {
          "base_uri": "https://localhost:8080/"
        },
        "id": "_2aKKBy7efFu",
        "outputId": "e92cb8f0-cd18-4397-85a5-80aff08f902a"
      },
      "execution_count": 67,
      "outputs": [
        {
          "output_type": "execute_result",
          "data": {
            "text/plain": [
              "(558,\n",
              " ['is an apple nutritious EOS yes apples are nutritious',\n",
              "  '\\ndo apples contain fiber EOS yes apples have fiber'])"
            ]
          },
          "metadata": {},
          "execution_count": 67
        }
      ]
    },
    {
      "cell_type": "markdown",
      "source": [
        "## tokenization using `nltk`"
      ],
      "metadata": {
        "id": "1RARa_ezkU83"
      }
    },
    {
      "cell_type": "code",
      "source": [
        "import nltk\n",
        "nltk.download('punkt_tab')"
      ],
      "metadata": {
        "colab": {
          "base_uri": "https://localhost:8080/"
        },
        "id": "1D4CQgr5CxQd",
        "outputId": "183611cf-71b0-43dd-c2d3-d68a8a0d20a1"
      },
      "execution_count": 68,
      "outputs": [
        {
          "output_type": "stream",
          "name": "stderr",
          "text": [
            "[nltk_data] Downloading package punkt_tab to /root/nltk_data...\n",
            "[nltk_data]   Package punkt_tab is already up-to-date!\n"
          ]
        },
        {
          "output_type": "execute_result",
          "data": {
            "text/plain": [
              "True"
            ]
          },
          "metadata": {},
          "execution_count": 68
        }
      ]
    },
    {
      "cell_type": "code",
      "source": [
        "tokens = [i for i in set(nltk.tokenize.word_tokenize(\"\".join(chunks)))]\n",
        "tokens.append('PAD')\n",
        "# just note, when the batch size is 1, padding is unnecessary. However, if the batch size is greater than 1,\n",
        "# padding becomes necessary because tensors need to be the same size to stack on each other.\n",
        "len(tokens) , tokens[:10]"
      ],
      "metadata": {
        "colab": {
          "base_uri": "https://localhost:8080/"
        },
        "id": "Koz_Qij4jd10",
        "outputId": "699939d4-4930-4bc8-d256-0db8a707e095"
      },
      "execution_count": 69,
      "outputs": [
        {
          "output_type": "execute_result",
          "data": {
            "text/plain": [
              "(185,\n",
              " ['promote',\n",
              "  'dietary',\n",
              "  'well',\n",
              "  'hair',\n",
              "  'effects',\n",
              "  'gums',\n",
              "  'fruit',\n",
              "  'sugars',\n",
              "  'contain',\n",
              "  'elderly'])"
            ]
          },
          "metadata": {},
          "execution_count": 69
        }
      ]
    },
    {
      "cell_type": "markdown",
      "source": [
        "## covert each chunk to a sequence (tokenization)"
      ],
      "metadata": {
        "id": "Uim4DjbTOQrA"
      }
    },
    {
      "cell_type": "code",
      "source": [
        "chunks_seq = [chunk.split() for chunk in chunks]\n",
        "chunks_seq[:2]"
      ],
      "metadata": {
        "colab": {
          "base_uri": "https://localhost:8080/"
        },
        "id": "FZB94ZEvOYJr",
        "outputId": "5351d472-0dd5-41b4-f03e-9af0c7440e8c"
      },
      "execution_count": 70,
      "outputs": [
        {
          "output_type": "execute_result",
          "data": {
            "text/plain": [
              "[['is',\n",
              "  'an',\n",
              "  'apple',\n",
              "  'nutritious',\n",
              "  'EOS',\n",
              "  'yes',\n",
              "  'apples',\n",
              "  'are',\n",
              "  'nutritious'],\n",
              " ['do', 'apples', 'contain', 'fiber', 'EOS', 'yes', 'apples', 'have', 'fiber']]"
            ]
          },
          "metadata": {},
          "execution_count": 70
        }
      ]
    },
    {
      "cell_type": "markdown",
      "source": [
        "## add identifier"
      ],
      "metadata": {
        "id": "Glrc9BbdkaC8"
      }
    },
    {
      "cell_type": "code",
      "source": [
        "id_to_token = {id:token for id,token in enumerate(tokens)}\n",
        "token_to_id = {token:id for id,token in enumerate(tokens)}\n",
        "id_to_token[22] , token_to_id['apple'], token_to_id[eos_token], token_to_id['PAD']"
      ],
      "metadata": {
        "colab": {
          "base_uri": "https://localhost:8080/"
        },
        "id": "TtTktJO8kYIi",
        "outputId": "bb4bbdd9-ec66-41d6-a602-e93d53ed3e6d"
      },
      "execution_count": 71,
      "outputs": [
        {
          "output_type": "execute_result",
          "data": {
            "text/plain": [
              "('they', 98, 134, 184)"
            ]
          },
          "metadata": {},
          "execution_count": 71
        }
      ]
    },
    {
      "cell_type": "markdown",
      "source": [
        "# Initializing"
      ],
      "metadata": {
        "id": "LFd6MX6nlE-2"
      }
    },
    {
      "cell_type": "code",
      "source": [
        "batch_size=1\n",
        "seq_len = max([len(seq) for seq in chunks_seq])\n",
        "num_tokens = len(tokens)\n",
        "dmodel = 32\n",
        "dropout = 0. # it's unneccessary for a simple dataset like this.\n",
        "print(f\"batch_size:{batch_size} | seq_len:{seq_len} | num_tokens:{num_tokens} | dmodel:{dmodel} | dropout:{dropout}\")"
      ],
      "metadata": {
        "colab": {
          "base_uri": "https://localhost:8080/"
        },
        "id": "uUmEF7gSlG4w",
        "outputId": "9223c75f-aaf3-4d05-914f-0fffcf1df031"
      },
      "execution_count": 72,
      "outputs": [
        {
          "output_type": "stream",
          "name": "stdout",
          "text": [
            "batch_size:1 | seq_len:12 | num_tokens:185 | dmodel:32 | dropout:0.0\n"
          ]
        }
      ]
    },
    {
      "cell_type": "code",
      "source": [
        "device = 'cuda' if torch.cuda.is_available() else 'cpu'\n",
        "device"
      ],
      "metadata": {
        "colab": {
          "base_uri": "https://localhost:8080/",
          "height": 36
        },
        "id": "jjygvSgamXVw",
        "outputId": "65b95905-4fce-4b0a-ca3c-39796f044bf3"
      },
      "execution_count": 73,
      "outputs": [
        {
          "output_type": "execute_result",
          "data": {
            "text/plain": [
              "'cuda'"
            ],
            "application/vnd.google.colaboratory.intrinsic+json": {
              "type": "string"
            }
          },
          "metadata": {},
          "execution_count": 73
        }
      ]
    },
    {
      "cell_type": "markdown",
      "source": [
        "# Dataset and DataLoader"
      ],
      "metadata": {
        "id": "i7x-TYVNmZ9j"
      }
    },
    {
      "cell_type": "markdown",
      "source": [
        "Just for fun let's observe how each token in every sequence will be replaced by its corresponding token id."
      ],
      "metadata": {
        "id": "ByggSSEoFmGh"
      }
    },
    {
      "cell_type": "code",
      "source": [
        "chunck_to_int = [[token_to_id[token] for token in chunk] for chunk in chunks_seq]\n",
        "chunck_to_int[:5]"
      ],
      "metadata": {
        "colab": {
          "base_uri": "https://localhost:8080/"
        },
        "id": "oZmHqQzDmu86",
        "outputId": "86c55962-fee4-42c8-9790-06ff6221d584"
      },
      "execution_count": 74,
      "outputs": [
        {
          "output_type": "execute_result",
          "data": {
            "text/plain": [
              "[[10, 27, 98, 154, 134, 173, 86, 145, 154],\n",
              " [74, 86, 8, 91, 134, 173, 86, 157, 91],\n",
              " [20, 23, 145, 13, 86, 134, 86, 157, 88, 139],\n",
              " [145, 86, 114, 47, 79, 134, 173, 86, 145, 90],\n",
              " [10, 98, 125, 90, 6, 134, 173, 92, 90]]"
            ]
          },
          "metadata": {},
          "execution_count": 74
        }
      ]
    },
    {
      "cell_type": "markdown",
      "source": [
        "## create dataset"
      ],
      "metadata": {
        "id": "iuHlR3XGWpfJ"
      }
    },
    {
      "cell_type": "code",
      "source": [
        "class AppleDataset(Dataset):\n",
        "  def __init__(self,chunks_seq):\n",
        "    self.chunks_seq = [[token_to_id[token] for token in chunk] for chunk in chunks_seq]\n",
        "\n",
        "  def __len__(self):\n",
        "    return len(self.chunks_seq)\n",
        "\n",
        "  def __getitem__(self, index) :\n",
        "    input = torch.tensor(self.chunks_seq[index])\n",
        "    label = torch.concatenate((torch.tensor(self.chunks_seq[index])[1:] , torch.tensor([token_to_id[eos_token]])))\n",
        "\n",
        "    return input,label\n",
        "\n",
        "dataset = AppleDataset(chunks_seq)\n",
        "dataset[0] # get the first index (input and label)"
      ],
      "metadata": {
        "id": "Qeaqw548mgwl",
        "colab": {
          "base_uri": "https://localhost:8080/"
        },
        "outputId": "99cb5c9c-dfd6-4a82-8ace-dc8ba77040ca"
      },
      "execution_count": 75,
      "outputs": [
        {
          "output_type": "execute_result",
          "data": {
            "text/plain": [
              "(tensor([ 10,  27,  98, 154, 134, 173,  86, 145, 154]),\n",
              " tensor([ 27,  98, 154, 134, 173,  86, 145, 154, 134]))"
            ]
          },
          "metadata": {},
          "execution_count": 75
        }
      ]
    },
    {
      "cell_type": "code",
      "source": [
        "num_samples = len(dataset)\n",
        "num_samples"
      ],
      "metadata": {
        "colab": {
          "base_uri": "https://localhost:8080/"
        },
        "id": "5gXtrdLVlGvR",
        "outputId": "da78c45c-bcdc-447a-8a71-21b01addf2ac"
      },
      "execution_count": 76,
      "outputs": [
        {
          "output_type": "execute_result",
          "data": {
            "text/plain": [
              "558"
            ]
          },
          "metadata": {},
          "execution_count": 76
        }
      ]
    },
    {
      "cell_type": "markdown",
      "source": [
        "## test how padding function works with a test tensor."
      ],
      "metadata": {
        "id": "SpqpzmlxIaaf"
      }
    },
    {
      "cell_type": "code",
      "source": [
        "tensors = [dataset[0][0] , dataset[1][0]  , dataset[2][0]]\n",
        "tensors"
      ],
      "metadata": {
        "colab": {
          "base_uri": "https://localhost:8080/"
        },
        "id": "RP1dXRRV4ejL",
        "outputId": "ce337018-e058-4e82-a73d-0a8787dca986"
      },
      "execution_count": 77,
      "outputs": [
        {
          "output_type": "execute_result",
          "data": {
            "text/plain": [
              "[tensor([ 10,  27,  98, 154, 134, 173,  86, 145, 154]),\n",
              " tensor([ 74,  86,   8,  91, 134, 173,  86, 157,  91]),\n",
              " tensor([ 20,  23, 145,  13,  86, 134,  86, 157,  88, 139])]"
            ]
          },
          "metadata": {},
          "execution_count": 77
        }
      ]
    },
    {
      "cell_type": "code",
      "source": [
        "def padding(t):\n",
        "  return F.pad(t,pad=(0,seq_len-len(t)),value=token_to_id[\"PAD\"],mode='constant')\n",
        "\n",
        "# We will use the map function to add padding to all tensors.\n",
        "# Additionally, by using stack, we can automatically convert a list of tensors into a stacked version.\n",
        "stacked_tensors = torch.stack(list(map(padding,tensors)))\n",
        "stacked_tensors"
      ],
      "metadata": {
        "colab": {
          "base_uri": "https://localhost:8080/"
        },
        "id": "d712aSRI5qp5",
        "outputId": "0a17d154-d209-41b6-cae8-a4a7fa981f0f"
      },
      "execution_count": 78,
      "outputs": [
        {
          "output_type": "execute_result",
          "data": {
            "text/plain": [
              "tensor([[ 10,  27,  98, 154, 134, 173,  86, 145, 154, 184, 184, 184],\n",
              "        [ 74,  86,   8,  91, 134, 173,  86, 157,  91, 184, 184, 184],\n",
              "        [ 20,  23, 145,  13,  86, 134,  86, 157,  88, 139, 184, 184]])"
            ]
          },
          "metadata": {},
          "execution_count": 78
        }
      ]
    },
    {
      "cell_type": "markdown",
      "source": [
        "## create dataloader object and add padding using `collate_fn`"
      ],
      "metadata": {
        "id": "ThPR_YnmWlXB"
      }
    },
    {
      "cell_type": "markdown",
      "source": [
        "also [here](https://datascience.stackexchange.com/questions/114244/multi-head-self-attention-output-size-for-batches-with-different-sequence-length) is mentioned, about `bucketting` instead of padding"
      ],
      "metadata": {
        "id": "1V8XaSWHm9fi"
      }
    },
    {
      "cell_type": "code",
      "source": [
        "def add_padding(batch):\n",
        "  def padding(t):\n",
        "    return F.pad(t,pad=(0,seq_len-len(t)),value=token_to_id[\"PAD\"],mode='constant')\n",
        "\n",
        "  inputs=[]\n",
        "  labels=[]\n",
        "  for i in batch:\n",
        "    inputs.append(i[0])\n",
        "    labels.append(i[1])\n",
        "\n",
        "  return torch.stack(list(map(padding,inputs))) , torch.stack(list(map(padding,labels)))\n",
        "\n",
        "\n",
        "train_loader = DataLoader(dataset, batch_size=batch_size, collate_fn=add_padding)# again, padding was unneccessary here, because batch size is 1\n",
        "# however we may use it when the batch size is bigger than 1!\n",
        "next(iter(train_loader))"
      ],
      "metadata": {
        "colab": {
          "base_uri": "https://localhost:8080/"
        },
        "id": "yjpdEZO_TqbI",
        "outputId": "927c3d0e-0847-4ddc-c6ae-3e2ffa89229f"
      },
      "execution_count": 79,
      "outputs": [
        {
          "output_type": "execute_result",
          "data": {
            "text/plain": [
              "(tensor([[ 10,  27,  98, 154, 134, 173,  86, 145, 154, 184, 184, 184]]),\n",
              " tensor([[ 27,  98, 154, 134, 173,  86, 145, 154, 134, 184, 184, 184]]))"
            ]
          },
          "metadata": {},
          "execution_count": 79
        }
      ]
    },
    {
      "cell_type": "markdown",
      "source": [
        "# <b>Positional Encoding</b>"
      ],
      "metadata": {
        "id": "7kDbZZ81W83R"
      }
    },
    {
      "cell_type": "code",
      "source": [
        "class PositionalEncoding(nn.Module):\n",
        "  def __init__(self,dmodel,seq_len,dropout:float):\n",
        "    super().__init__()\n",
        "\n",
        "    pe = torch.zeros((seq_len,dmodel))\n",
        "\n",
        "    position = torch.arange(0, seq_len, step=1).float().unsqueeze(1)\n",
        "\n",
        "    embedding_index = torch.arange(0, dmodel, 2).float()\n",
        "\n",
        "    div_term = 1/((torch.tensor(10000.0)**(embedding_index/dmodel)))\n",
        "\n",
        "    pe[:, 0::2] = torch.sin(position*div_term)\n",
        "    pe[:, 1::2] = torch.cos(position*div_term)\n",
        "\n",
        "    self.dropout = nn.Dropout(dropout)\n",
        "    self.register_buffer('pe' , pe)\n",
        "\n",
        "\n",
        "  def forward(self,input_we):\n",
        "    self.pe = self.pe\n",
        "    input_we + self.pe[:input_we.size(0) , :]\n",
        "    return self.dropout(input_we + self.pe[:input_we.size(0) , :])\n"
      ],
      "metadata": {
        "id": "vKM1_f6aW_Ig"
      },
      "execution_count": 80,
      "outputs": []
    },
    {
      "cell_type": "markdown",
      "source": [
        "# <b>Attention</b>"
      ],
      "metadata": {
        "id": "EphrSHcwg1QI"
      }
    },
    {
      "cell_type": "code",
      "source": [
        "class Attention(nn.Module):\n",
        "  def __init__(self,dmodel ):\n",
        "    super().__init__()\n",
        "\n",
        "    self.wq = nn.Linear(dmodel,dmodel)\n",
        "    self.wk = nn.Linear(dmodel,dmodel)\n",
        "    self.wv = nn.Linear(dmodel,dmodel)\n",
        "\n",
        "  def forward(self,pe_q,pe_k:torch.Tensor,pe_v,mask=None):\n",
        "    q = self.wq(pe_q)\n",
        "    k = self.wk(pe_k)\n",
        "    v = self.wv(pe_v)\n",
        "    sc_normalized = torch.matmul(q,k.T)/(pe_k.shape[0]**0.5)\n",
        "\n",
        "    if mask is not None:\n",
        "      sc_normalized = torch.masked_fill(sc_normalized , mask , -1e9)\n",
        "\n",
        "    softmax_output = F.softmax(sc_normalized , dim=1)\n",
        "    attention_value = torch.matmul(softmax_output,v)\n",
        "\n",
        "    return attention_value\n",
        "\n"
      ],
      "metadata": {
        "id": "4MnnZXk2g33_"
      },
      "execution_count": 81,
      "outputs": []
    },
    {
      "cell_type": "markdown",
      "source": [
        "# Decoder-Only object"
      ],
      "metadata": {
        "id": "j9vliniwkgL3"
      }
    },
    {
      "cell_type": "code",
      "source": [
        "class DecoderOnly(nn.Module):\n",
        "  def __init__(self,dmodel,num_tokens,seq_len,dropout:float,device=device):\n",
        "    super().__init__()\n",
        "\n",
        "    self.wembedding = nn.Embedding(num_embeddings=num_tokens , embedding_dim=dmodel)\n",
        "    self.pencoding = PositionalEncoding(dmodel,seq_len,dropout)\n",
        "    self.attention = Attention(dmodel)\n",
        "    self.fc1 = nn.Linear(dmodel,num_tokens)\n",
        "    self.dropout = nn.Dropout(dropout)\n",
        "\n",
        "  def forward(self,input):\n",
        "    we = self.wembedding(input)\n",
        "    pe = self.pencoding(we)\n",
        "\n",
        "    mask = torch.tril(torch.ones(size=(input.shape[0], input.shape[0]))).to(device)\n",
        "    mask = mask == 0\n",
        "\n",
        "    residual_connection = self.attention(pe,pe,pe,mask=mask) + pe\n",
        "    output = self.fc1(residual_connection)\n",
        "\n",
        "    return self.dropout(output)\n",
        "\n",
        "\n",
        "model = DecoderOnly(dmodel,num_tokens,seq_len,dropout)\n",
        "model.to(device) # Send model to device"
      ],
      "metadata": {
        "id": "hbjJNRiyklRY",
        "colab": {
          "base_uri": "https://localhost:8080/"
        },
        "outputId": "47ef55eb-32e7-4cb9-dcd8-e1b3149d26d2"
      },
      "execution_count": 82,
      "outputs": [
        {
          "output_type": "execute_result",
          "data": {
            "text/plain": [
              "DecoderOnly(\n",
              "  (wembedding): Embedding(185, 32)\n",
              "  (pencoding): PositionalEncoding(\n",
              "    (dropout): Dropout(p=0.0, inplace=False)\n",
              "  )\n",
              "  (attention): Attention(\n",
              "    (wq): Linear(in_features=32, out_features=32, bias=True)\n",
              "    (wk): Linear(in_features=32, out_features=32, bias=True)\n",
              "    (wv): Linear(in_features=32, out_features=32, bias=True)\n",
              "  )\n",
              "  (fc1): Linear(in_features=32, out_features=185, bias=True)\n",
              "  (dropout): Dropout(p=0.0, inplace=False)\n",
              ")"
            ]
          },
          "metadata": {},
          "execution_count": 82
        }
      ]
    },
    {
      "cell_type": "code",
      "source": [
        "next(model.parameters()).device # Check parameters device"
      ],
      "metadata": {
        "colab": {
          "base_uri": "https://localhost:8080/"
        },
        "id": "JI8OpYwGgpix",
        "outputId": "158d3bb3-47f7-4fa4-a9c2-e0cdf56c4144"
      },
      "execution_count": 83,
      "outputs": [
        {
          "output_type": "execute_result",
          "data": {
            "text/plain": [
              "device(type='cuda', index=0)"
            ]
          },
          "metadata": {},
          "execution_count": 83
        }
      ]
    },
    {
      "cell_type": "markdown",
      "source": [
        "# <b>Build required function</b>"
      ],
      "metadata": {
        "id": "auzhq_kDkvOw"
      }
    },
    {
      "cell_type": "code",
      "source": [
        "def accuracy(labels,outputs,batch_size):\n",
        "  targets = torch.argmax(outputs, dim=1)\n",
        "\n",
        "  return sum(torch.eq(labels , targets))/batch_size"
      ],
      "metadata": {
        "id": "gYwx8uUSky1M"
      },
      "execution_count": 84,
      "outputs": []
    },
    {
      "cell_type": "code",
      "source": [
        "optimizer = SGD(lr=0.01, params=model.parameters())\n",
        "loss_fn = nn.CrossEntropyLoss()"
      ],
      "metadata": {
        "id": "hOp68tCnk2Xr"
      },
      "execution_count": 85,
      "outputs": []
    },
    {
      "cell_type": "markdown",
      "source": [
        "# <b>Train the model </b>"
      ],
      "metadata": {
        "id": "Loautja7lPcd"
      }
    },
    {
      "cell_type": "code",
      "source": [
        "def train(epochs):\n",
        "  loss_history = []\n",
        "  accuracy_history = []\n",
        "  for epoch in range(epochs):\n",
        "    loss_epoch = 0\n",
        "    accuracy_epoch = 0\n",
        "    for batch_num , data in enumerate(train_loader):\n",
        "      input, label = data\n",
        "\n",
        "      # as input, label come from dataloader, they have 1 dim more (because of applying batch size)\n",
        "      input = input.squeeze(dim=0)\n",
        "      label = label.squeeze(dim=0)\n",
        "\n",
        "      # send to the gpu if it is available\n",
        "      input = input.to(device)\n",
        "      label = label.to(device)\n",
        "      # print(f\"input:{input} | label:{label}\")\n",
        "      # print(f\"label.shape: {label.shape}\")\n",
        "\n",
        "      output = model(input)\n",
        "      loss = loss_fn(output,label)\n",
        "      optimizer.zero_grad()\n",
        "      loss.backward()\n",
        "      optimizer.step()\n",
        "\n",
        "      loss_epoch+=loss.detach().item()\n",
        "      accuracy_epoch+=accuracy(label,output,1)/seq_len\n",
        "\n",
        "\n",
        "    # print(f\"label.shape: {label.shape} | output.shape: {output.shape}\")\n",
        "    if epoch % 10 == 0:\n",
        "      print(f\"epoch: {epoch} | loss: {loss_epoch/num_samples:.4f} | acc: %{(accuracy_epoch/num_samples).cpu()*100:.2f}\")\n",
        "\n",
        "      # print(f\"output:\\n{output}\")\n",
        "    loss_history.append(loss_epoch/num_samples) # it's better to calculate loss for each sample to have an understandable mesaurement\n",
        "    accuracy_history.append((accuracy_epoch/num_samples).cpu())\n",
        "  return loss_history , accuracy_history\n",
        "\n",
        "loss_history , accuracy_history = train(\n",
        "  epochs=200\n",
        ")\n"
      ],
      "metadata": {
        "id": "apKouTXWk7oc",
        "colab": {
          "base_uri": "https://localhost:8080/"
        },
        "outputId": "fdd83d28-ed59-4d29-cd3d-2becbf4c69a7"
      },
      "execution_count": 86,
      "outputs": [
        {
          "output_type": "stream",
          "name": "stdout",
          "text": [
            "epoch: 0 | loss: 2.8373 | acc: %48.61\n",
            "epoch: 10 | loss: 1.2194 | acc: %68.64\n",
            "epoch: 20 | loss: 0.9831 | acc: %72.60\n",
            "epoch: 30 | loss: 0.8538 | acc: %74.93\n",
            "epoch: 40 | loss: 0.7779 | acc: %76.18\n",
            "epoch: 50 | loss: 0.7276 | acc: %77.06\n",
            "epoch: 60 | loss: 0.6888 | acc: %77.70\n",
            "epoch: 70 | loss: 0.6557 | acc: %78.63\n",
            "epoch: 80 | loss: 0.6351 | acc: %78.99\n",
            "epoch: 90 | loss: 0.6194 | acc: %79.18\n",
            "epoch: 100 | loss: 0.6062 | acc: %79.32\n",
            "epoch: 110 | loss: 0.5962 | acc: %79.58\n",
            "epoch: 120 | loss: 0.5805 | acc: %80.02\n",
            "epoch: 130 | loss: 0.5672 | acc: %80.42\n",
            "epoch: 140 | loss: 0.5566 | acc: %80.78\n",
            "epoch: 150 | loss: 0.5475 | acc: %80.94\n",
            "epoch: 160 | loss: 0.5394 | acc: %81.17\n",
            "epoch: 170 | loss: 0.5326 | acc: %81.44\n",
            "epoch: 180 | loss: 0.5272 | acc: %81.57\n",
            "epoch: 190 | loss: 0.5227 | acc: %81.65\n"
          ]
        }
      ]
    },
    {
      "cell_type": "code",
      "source": [
        "plt.plot(loss_history)\n",
        "plt.title('loss history per sample')"
      ],
      "metadata": {
        "id": "XkXjzth4__w9",
        "colab": {
          "base_uri": "https://localhost:8080/",
          "height": 470
        },
        "outputId": "5c632847-18c4-468a-892a-d508ec34ccb4"
      },
      "execution_count": 87,
      "outputs": [
        {
          "output_type": "execute_result",
          "data": {
            "text/plain": [
              "Text(0.5, 1.0, 'loss history per sample')"
            ]
          },
          "metadata": {},
          "execution_count": 87
        },
        {
          "output_type": "display_data",
          "data": {
            "text/plain": [
              "<Figure size 640x480 with 1 Axes>"
            ],
            "image/png": "[encoded data removed]"
          },
          "metadata": {}
        }
      ]
    },
    {
      "cell_type": "code",
      "source": [
        "plt.plot(accuracy_history);\n",
        "plt.title('accuracy per predicted token (not whole sentence)')"
      ],
      "metadata": {
        "id": "JNXmkYkhADny",
        "colab": {
          "base_uri": "https://localhost:8080/",
          "height": 470
        },
        "outputId": "11483e4f-20ea-4d1f-f1cf-ba5787a7e308"
      },
      "execution_count": 88,
      "outputs": [
        {
          "output_type": "execute_result",
          "data": {
            "text/plain": [
              "Text(0.5, 1.0, 'accuracy per predicted token (not whole sentence)')"
            ]
          },
          "metadata": {},
          "execution_count": 88
        },
        {
          "output_type": "display_data",
          "data": {
            "text/plain": [
              "<Figure size 640x480 with 1 Axes>"
            ],
            "image/png": "[encoded data removed]"
          },
          "metadata": {}
        }
      ]
    },
    {
      "cell_type": "code",
      "source": [
        "def prediction(input , initial_input_len):\n",
        "  output = model(input)\n",
        "  predictions = torch.argmax(output , dim=1)[-1].unsqueeze(0)\n",
        "  # print(f\"predictions: {predictions}\")\n",
        "  input = torch.concatenate((input , predictions) , dim=0)\n",
        "\n",
        "  for i in range(seq_len-initial_input_len-1):\n",
        "    output = model(input)\n",
        "    last_token = torch.argmax(output , dim=1)[-1]\n",
        "    input = torch.concatenate((input , last_token.unsqueeze(0)) , dim=0)\n",
        "    # print(f'updated input {input}')\n",
        "    # print(f\"last token {last_token.unsqueeze(0)}\")\n",
        "    predictions = torch.concatenate((predictions, last_token.unsqueeze(0)) , dim=0)\n",
        "    # print(f\"predictions {predictions}\")\n",
        "\n",
        "    if last_token.item() == token_to_id['EOS']:\n",
        "      break\n",
        "\n",
        "  return predictions\n"
      ],
      "metadata": {
        "id": "wsTXIJ9AQoTU"
      },
      "execution_count": 105,
      "outputs": []
    },
    {
      "cell_type": "markdown",
      "source": [
        "Ask some questions"
      ],
      "metadata": {
        "id": "kKixIWapiK3B"
      }
    },
    {
      "cell_type": "code",
      "source": [
        "def ask(questions):\n",
        "\n",
        "  for q in questions:\n",
        "    question = q.lower() + \" EOS\"\n",
        "    question_tokenized = question.split()\n",
        "\n",
        "    input_sample = torch.tensor( [token_to_id[token] for token in question_tokenized],device=device)\n",
        "\n",
        "    output = prediction(input_sample, input_sample.shape[0])\n",
        "    # print(output)\n",
        "\n",
        "    print(\n",
        "        question, \"? \",\n",
        "        \" \".join([id_to_token[i.item()] for i in output]),\n",
        "        print('-----------')\n",
        "    )\n",
        "\n",
        "questions = ['Is apple good for skin' , 'Is apple healthy','apple']\n",
        "ask(questions)"
      ],
      "metadata": {
        "colab": {
          "base_uri": "https://localhost:8080/"
        },
        "id": "ZpbyleR-iPfC",
        "outputId": "a7673ab1-ecab-408d-c3e2-3e56bf2633a3"
      },
      "execution_count": 114,
      "outputs": [
        {
          "output_type": "stream",
          "name": "stdout",
          "text": [
            "-----------\n",
            "is apple good for skin EOS ?  yes they do EOS None\n",
            "-----------\n",
            "is apple healthy EOS ?  yes very healthy EOS None\n",
            "-----------\n",
            "apple EOS ?  yes very brain EOS None\n"
          ]
        }
      ]
    }
  ]
}